{
  "nbformat": 4,
  "nbformat_minor": 0,
  "metadata": {
    "colab": {
      "provenance": []
    },
    "kernelspec": {
      "name": "python3",
      "display_name": "Python 3"
    },
    "language_info": {
      "name": "python"
    }
  },
  "cells": [
    {
      "cell_type": "markdown",
      "source": [
        "WYPC57ATSB37VT06"
      ],
      "metadata": {
        "id": "okdAh5WBOdfI"
      }
    },
    {
      "cell_type": "code",
      "source": [
        "#importing necessary packages\n",
        "import json\n",
        "import requests\n",
        "import pandas as pd\n",
        "\n",
        "company = input() #get input of the company (as symbol)\n",
        "\n",
        "api_key = \"WYPC57ATSB37VT06\" #defining API key\n",
        "url = f\"https://www.alphavantage.co/query?function=TIME_SERIES_MONTHLY&symbol={company}&apikey={api_key}\" #url with the monthly share price data of the company\n",
        "\n",
        "response = requests.get(url) #requests url\n",
        "data = response.json() #retrieving the data in json format\n",
        "\n",
        "#converting the json format to dataframe\n",
        "monthlydata = data[\"Monthly Time Series\"]\n",
        "df = pd.DataFrame(monthlydata)\n",
        "df = df.transpose()\n",
        "df.columns = ['open', 'high', 'low', 'close', 'volume']\n",
        "\n",
        "#print the dataframe\n",
        "print(df)\n"
      ],
      "metadata": {
        "colab": {
          "base_uri": "https://localhost:8080/"
        },
        "id": "UeyPeotHShKs",
        "outputId": "3936b501-a2fd-45bb-dd31-bfa711ce8071"
      },
      "execution_count": null,
      "outputs": [
        {
          "output_type": "stream",
          "name": "stdout",
          "text": [
            "IBM\n",
            "                open      high       low     close     volume\n",
            "date                                                         \n",
            "1999-12-31  102.5600  122.1200  102.2500  107.8700  158626300\n",
            "2000-01-31  112.4400  124.7500  109.6200  112.2500  175259600\n",
            "2000-02-29  112.3700  119.7500  100.9400  102.7500  133524400\n",
            "2000-03-31  102.0000  128.2500   99.5000  118.3700  194329000\n",
            "2000-04-28  120.0000  128.0000  101.2500  111.5000  168464800\n",
            "...              ...       ...       ...       ...        ...\n",
            "2024-05-31  165.6900  175.4600  162.6200  166.8500   78620355\n",
            "2024-06-28  166.5400  178.4599  163.5300  172.9500   70706301\n",
            "2024-07-31  173.4500  196.2600  173.3800  192.1400   81258646\n",
            "2024-08-30  192.8100  202.1700  181.8100  202.1300   65453729\n",
            "2024-09-03  201.9100  204.7200  200.2100  201.2800    3874697\n",
            "\n",
            "[298 rows x 5 columns]\n"
          ]
        }
      ]
    },
    {
      "cell_type": "code",
      "source": [
        "#importing necessary packages\n",
        "import json\n",
        "import requests\n",
        "import pandas as pd\n",
        "\n",
        "company = input() #get input of the company (as symbol)\n",
        "\n",
        "api_key = \"WYPC57ATSB37VT06\" #defining API key\n",
        "url = f\"https://www.alphavantage.co/query?function=TIME_SERIES_WEEKLY&symbol={company}&apikey={api_key}\" #url with the weekly share price data of the company\n",
        "\n",
        "response = requests.get(url) #requests url\n",
        "data = response.json() #retrieving the data in json format\n",
        "\n",
        "#converting the json format to dataframe\n",
        "weeklydata = data[\"Weekly Time Series\"]\n",
        "df = pd.DataFrame(weeklydata)\n",
        "df = df.transpose()\n",
        "df.columns = ['open', 'high', 'low', 'close', 'volume']\n",
        "\n",
        "#print the dataframe\n",
        "print(df)"
      ],
      "metadata": {
        "colab": {
          "base_uri": "https://localhost:8080/"
        },
        "id": "dkmL6mCrX0bl",
        "outputId": "7796eef9-ba64-4db2-e3c2-aa35249b7e58"
      },
      "execution_count": null,
      "outputs": [
        {
          "output_type": "stream",
          "name": "stdout",
          "text": [
            "IBM\n",
            "                open      high       low     close    volume\n",
            "2024-09-03  201.9100  204.7200  200.2100  201.2800   3874697\n",
            "2024-08-30  196.0000  202.1700  195.9000  202.1300  15570283\n",
            "2024-08-23  193.8400  197.9200  193.7150  196.1000  11022549\n",
            "2024-08-16  191.2500  194.3500  189.0001  193.7800  11330854\n",
            "2024-08-09  184.5500  192.8800  181.8100  191.4500  18895865\n",
            "...              ...       ...       ...       ...       ...\n",
            "1999-12-10  113.0000  122.1200  107.5600  109.0000  58626000\n",
            "1999-12-03  104.9400  112.8700  102.1200  111.8700  37670000\n",
            "1999-11-26  105.5000  109.8700  101.8100  105.0000  37165600\n",
            "1999-11-19   96.0000  105.1200   92.6200  103.9400  61550800\n",
            "1999-11-12   90.5000   97.5000   90.5000   95.8700  43569700\n",
            "\n",
            "[1296 rows x 5 columns]\n"
          ]
        }
      ]
    },
    {
      "cell_type": "code",
      "source": [
        "#importing necessry packages\n",
        "import json\n",
        "import requests\n",
        "import pandas as pd\n",
        "\n",
        "company = input() #get input of the company (as symbol)\n",
        "\n",
        "api_key = \"WYPC57ATSB37VT06\" #defining API key\n",
        "url = f\"https://www.alphavantage.co/query?function=TIME_SERIES_DAILY&symbol={company}&apikey={api_key}\" #url with the daily share price data of the company\n",
        "\n",
        "response = requests.get(url) #requests the url\n",
        "data = response.json() #retrieving the data in json format\n",
        "\n",
        "#converting the json format to dataframe\n",
        "dailydata = data[\"Time Series (Daily)\"]\n",
        "df = pd.DataFrame(dailydata)\n",
        "df = df.transpose()\n",
        "df.columns = ['open', 'high', 'low', 'close', 'volume']\n",
        "\n",
        "#print the dataframe\n",
        "print(df)"
      ],
      "metadata": {
        "colab": {
          "base_uri": "https://localhost:8080/"
        },
        "id": "uDQSQImrXqjV",
        "outputId": "d704e280-9012-4450-9061-28fb6964534e"
      },
      "execution_count": 1,
      "outputs": [
        {
          "output_type": "stream",
          "name": "stdout",
          "text": [
            "IBM\n",
            "                open      high       low     close   volume\n",
            "2024-09-04  200.7600  204.3600  200.5000  204.1100  3111332\n",
            "2024-09-03  201.9100  204.7200  200.2100  201.2800  3874697\n",
            "2024-08-30  199.1100  202.1700  198.7300  202.1300  4750999\n",
            "2024-08-29  199.3000  201.1200  198.2700  198.9000  2989594\n",
            "2024-08-28  199.0000  200.0000  197.4900  198.4600  2645244\n",
            "...              ...       ...       ...       ...      ...\n",
            "2024-04-18  182.3500  183.4600  180.1700  181.4700  2886733\n",
            "2024-04-17  184.1600  184.6700  181.7800  183.1000  3003033\n",
            "2024-04-16  185.5900  185.7100  182.8600  183.7500  4473654\n",
            "2024-04-15  185.5700  187.4800  180.8800  181.2500  3528140\n",
            "2024-04-12  184.0000  185.1699  181.6850  182.2700  3547378\n",
            "\n",
            "[100 rows x 5 columns]\n"
          ]
        }
      ]
    },
    {
      "cell_type": "code",
      "source": [
        "#importing necessary packages\n",
        "import json\n",
        "import requests\n",
        "import pandas as pd\n",
        "\n",
        "company = input() #get input of the company (as symbol)\n",
        "api_key = \"WYPC57ATSB37VT06\" #defining API key\n",
        "url = f\"https://www.alphavantage.co/query?function=TIME_SERIES_INTRADAY&symbol={company}&interval=5min&apikey={api_key}\" #url with the intraday share price data of the company with interval of 5min\n",
        "\n",
        "response = requests.get(url)  #requests the url\n",
        "data = response.json()  #retrieving the data in json format\n",
        "\n",
        "#converting the json format to dataframe\n",
        "intraday = data[\"Time Series (5min)\"]\n",
        "df = pd.DataFrame(intraday)\n",
        "df = df.transpose()\n",
        "df.columns = ['open', 'high', 'low', 'close', 'volume']\n",
        "\n",
        "#print the dataframe\n",
        "print(df)"
      ],
      "metadata": {
        "colab": {
          "base_uri": "https://localhost:8080/"
        },
        "id": "EsbOSxuGW-YU",
        "outputId": "b67ea0a0-5a0c-4893-fc1f-afcbba5b807b"
      },
      "execution_count": 2,
      "outputs": [
        {
          "output_type": "stream",
          "name": "stdout",
          "text": [
            "IBM\n",
            "                         open      high       low     close volume\n",
            "2024-09-04 19:55:00  204.0000  204.0000  203.5000  203.9900     22\n",
            "2024-09-04 19:50:00  203.8100  203.8100  203.8100  203.8100      5\n",
            "2024-09-04 19:45:00  203.8100  203.8100  203.8100  203.8100      4\n",
            "2024-09-04 19:40:00  204.0000  204.0000  204.0000  204.0000    132\n",
            "2024-09-04 19:35:00  204.2600  204.2600  204.1000  204.1000    132\n",
            "...                       ...       ...       ...       ...    ...\n",
            "2024-09-04 11:20:00  203.5800  203.6400  203.3600  203.4600  22993\n",
            "2024-09-04 11:15:00  203.1700  203.6350  203.1100  203.5600  19623\n",
            "2024-09-04 11:10:00  203.1950  203.4900  203.1800  203.2300  20972\n",
            "2024-09-04 11:05:00  203.5750  203.5750  203.1601  203.2000  20916\n",
            "2024-09-04 11:00:00  203.3500  203.5800  203.2000  203.5100  35388\n",
            "\n",
            "[100 rows x 5 columns]\n"
          ]
        }
      ]
    }
  ]
}